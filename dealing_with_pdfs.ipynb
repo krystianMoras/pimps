{
 "cells": [
  {
   "cell_type": "markdown",
   "metadata": {},
   "source": [
    "# How to process PDFs?"
   ]
  },
  {
   "cell_type": "markdown",
   "metadata": {},
   "source": [
    "There is a very nice package PyMuPDF, but unfortunately it is AGPL\n",
    "https://pymupdf.readthedocs.io/en/latest/about.html#license-and-copyright\n"
   ]
  },
  {
   "cell_type": "markdown",
   "metadata": {},
   "source": [
    "Instead I'll use pypdf"
   ]
  },
  {
   "cell_type": "code",
   "execution_count": null,
   "metadata": {},
   "outputs": [],
   "source": [
    "%pip install pypdf --quiet"
   ]
  },
  {
   "cell_type": "code",
   "execution_count": 1,
   "metadata": {},
   "outputs": [
    {
     "name": "stdout",
     "output_type": "stream",
     "text": [
      "['C:\\\\Users\\\\kryst\\\\Documents\\\\Stuff\\\\University\\\\Cybersecurity\\\\Application Security\\\\Security_slides08_Apps.pdf', 'C:\\\\Users\\\\kryst\\\\Documents\\\\Stuff\\\\University\\\\Cybersecurity\\\\Crypto for Cybersecurity\\\\Security_slides03_Crypto.pdf', 'C:\\\\Users\\\\kryst\\\\Documents\\\\Stuff\\\\University\\\\Cybersecurity\\\\Firewalls\\\\Security_slides07_Firewall.pdf', 'C:\\\\Users\\\\kryst\\\\Documents\\\\Stuff\\\\University\\\\Cybersecurity\\\\Fundamentals of Cybersecurity\\\\Security_slides02_Basics.pdf', 'C:\\\\Users\\\\kryst\\\\Documents\\\\Stuff\\\\University\\\\Cybersecurity\\\\Higher-Security Environments\\\\Security_slides10_HighSec.pdf', 'C:\\\\Users\\\\kryst\\\\Documents\\\\Stuff\\\\University\\\\Cybersecurity\\\\Introduction\\\\Security_slides01_Intro.pdf', 'C:\\\\Users\\\\kryst\\\\Documents\\\\Stuff\\\\University\\\\Cybersecurity\\\\Network Security\\\\Security_slides05_Network.pdf', 'C:\\\\Users\\\\kryst\\\\Documents\\\\Stuff\\\\University\\\\Cybersecurity\\\\Operating Systems Security\\\\Security_slides04_OS.pdf', 'C:\\\\Users\\\\kryst\\\\Documents\\\\Stuff\\\\University\\\\Cybersecurity\\\\Secure Programming\\\\Security_slides09_Programming.pdf', 'C:\\\\Users\\\\kryst\\\\Documents\\\\Stuff\\\\University\\\\Cybersecurity\\\\Security Management\\\\Security_slides11_Mgmnt.pdf', 'C:\\\\Users\\\\kryst\\\\Documents\\\\Stuff\\\\University\\\\Cybersecurity\\\\VPN tunnels\\\\Security_slides06_VPN.pdf', 'C:\\\\Users\\\\kryst\\\\Documents\\\\Stuff\\\\University\\\\Evolutionary Computation\\\\EC.pdf', 'C:\\\\Users\\\\kryst\\\\Documents\\\\Stuff\\\\University\\\\Evolutionary Computation\\\\Evolutionary-and-population-algorithms.pdf', 'C:\\\\Users\\\\kryst\\\\Documents\\\\Stuff\\\\University\\\\Evolutionary Computation\\\\Quantum-computing.pdf', 'C:\\\\Users\\\\kryst\\\\Documents\\\\Stuff\\\\University\\\\Evolutionary Computation\\\\Theory.pdf', 'C:\\\\Users\\\\kryst\\\\Documents\\\\Stuff\\\\University\\\\Semantic Web and Social Networks\\\\Knowledge Graphs\\\\Knowledge graph representation learning - en.pdf', 'C:\\\\Users\\\\kryst\\\\Documents\\\\Stuff\\\\University\\\\Semantic Web and Social Networks\\\\Knowledge Graphs\\\\Knowledge_graphs_en .pdf', 'C:\\\\Users\\\\kryst\\\\Documents\\\\Stuff\\\\University\\\\Semantic Web and Social Networks\\\\Ontologies\\\\RDFS_OWL_en(1).pdf', 'C:\\\\Users\\\\kryst\\\\Documents\\\\Stuff\\\\University\\\\Semantic Web and Social Networks\\\\Semantic networks\\\\Lecture 1 - semantic_networks_RDF_en(2).pdf', 'C:\\\\Users\\\\kryst\\\\Documents\\\\Stuff\\\\University\\\\Semantic Web and Social Networks\\\\Social Networks\\\\social_networks_01_linked.pdf', 'C:\\\\Users\\\\kryst\\\\Documents\\\\Stuff\\\\University\\\\Semantic Web and Social Networks\\\\Social Networks\\\\social_networks_02_measuring_networks.pdf', 'C:\\\\Users\\\\kryst\\\\Documents\\\\Stuff\\\\University\\\\Semantic Web and Social Networks\\\\SPARQL query language\\\\SPARQL - lecture - en(1).pdf']\n"
     ]
    }
   ],
   "source": [
    "import pypdf\n",
    "import os\n",
    "# read pdfs\n",
    "\n",
    "directory_path = r\"C:\\Users\\kryst\\Documents\\Stuff\"\n",
    "\n",
    "pdfs = []\n",
    "\n",
    "# recursively find all pdfs in directory\n",
    "\n",
    "for root, dirs, files in os.walk(directory_path):\n",
    "    for file in files:\n",
    "        if file.endswith(\".pdf\"):\n",
    "            pdfs.append(os.path.join(root, file))\n",
    "\n",
    "print(pdfs)"
   ]
  },
  {
   "cell_type": "code",
   "execution_count": 47,
   "metadata": {},
   "outputs": [
    {
     "name": "stdout",
     "output_type": "stream",
     "text": [
      "Note: you may need to restart the kernel to use updated packages.\n"
     ]
    },
    {
     "name": "stderr",
     "output_type": "stream",
     "text": [
      "WARNING: Ignoring invalid distribution ~pencv-python (c:\\Users\\kryst\\AppData\\Local\\Programs\\Python\\Python311\\Lib\\site-packages)\n",
      "DEPRECATION: Loading egg at c:\\users\\kryst\\appdata\\local\\programs\\python\\python311\\lib\\site-packages\\wordcloud-1.8.2.post4+g5dd8d3e-py3.11-win-amd64.egg is deprecated. pip 24.3 will enforce this behaviour change. A possible replacement is to use pip for package installation.. Discussion can be found at https://github.com/pypa/pip/issues/12330\n",
      "WARNING: Ignoring invalid distribution ~pencv-python (c:\\Users\\kryst\\AppData\\Local\\Programs\\Python\\Python311\\Lib\\site-packages)\n"
     ]
    }
   ],
   "source": [
    "%pip install cryptography --quiet --upgrade"
   ]
  },
  {
   "cell_type": "code",
   "execution_count": 2,
   "metadata": {},
   "outputs": [
    {
     "name": "stdout",
     "output_type": "stream",
     "text": [
      "1443\n"
     ]
    }
   ],
   "source": [
    "all_pages = []\n",
    "\n",
    "for pdf in pdfs:\n",
    "    # read pdf page by page\n",
    "    pdf_file = open(pdf, 'rb')\n",
    "    pdf_reader = pypdf.PdfReader(pdf_file)\n",
    "    # get number of pages\n",
    "    for i, page in enumerate(pdf_reader.pages):\n",
    "        \n",
    "        content = page.extract_text()\n",
    "        all_pages.append(\n",
    "            {\n",
    "                \"path\": pdf,\n",
    "                \"page\": i,\n",
    "                \"content\": content\n",
    "            }\n",
    "        )\n",
    "\n",
    "# dump into jsonl\n",
    "import json\n",
    "\n",
    "with open(\"pdfs.jsonl\", \"w\") as f:\n",
    "    for page in all_pages:\n",
    "        f.write(json.dumps(page))\n",
    "        f.write(\"\\n\")\n",
    "print(len(all_pages))"
   ]
  },
  {
   "cell_type": "code",
   "execution_count": 3,
   "metadata": {},
   "outputs": [],
   "source": [
    "# https://help.openai.com/en/articles/4936856-what-are-tokens-and-how-to-count-them\n",
    "def get_approx_tokens(sequence):\n",
    "    return len(sequence) / 4"
   ]
  },
  {
   "cell_type": "code",
   "execution_count": 4,
   "metadata": {},
   "outputs": [],
   "source": [
    "from nltk import sent_tokenize\n",
    "\n",
    "def sliding_window(seq, n=512):\n",
    "    \"\"\"Returns a sliding window (of width n) over data from the iterable\"\"\"\n",
    "    seq = sent_tokenize(seq)\n",
    "\n",
    "    # sentences should not be broken up\n",
    "    \n",
    "    lengths = []\n",
    "    for sentence in seq:\n",
    "        sentence_token_len = get_approx_tokens(sentence)\n",
    "        lengths.append(sentence_token_len)\n",
    "\n",
    "    result = []\n",
    "    start = 0\n",
    "    for i in range(len(lengths)+1):\n",
    "        if sum(lengths[start:i]) > n:\n",
    "            result.append(seq[start:i-1])\n",
    "            start +=1\n",
    "\n",
    "        # last sentence\n",
    "    result.append(seq[start:])\n",
    "    return result    \n",
    "\n",
    "\n",
    "\n",
    "# list(sliding_window(\"123456. 12345678. 123456789.\"))"
   ]
  },
  {
   "cell_type": "code",
   "execution_count": 5,
   "metadata": {},
   "outputs": [
    {
     "name": "stdout",
     "output_type": "stream",
     "text": [
      "1455\n"
     ]
    }
   ],
   "source": [
    "passages = []\n",
    "\n",
    "for page in all_pages:\n",
    "\n",
    "\n",
    "    # split page into passages\n",
    "    content = page[\"content\"]\n",
    "\n",
    "    content_split = sliding_window(content)\n",
    "\n",
    "    passages.extend(\n",
    "        [\n",
    "            {\n",
    "                \"path\": page[\"path\"],\n",
    "                \"page\": page[\"page\"],\n",
    "                \"passage\": passage\n",
    "            }\n",
    "            for passage in content_split\n",
    "        ]\n",
    "    )\n",
    "\n",
    "print(len(passages))"
   ]
  },
  {
   "cell_type": "code",
   "execution_count": 6,
   "metadata": {},
   "outputs": [],
   "source": [
    "from fastembed.embedding import FlagEmbedding as Embedding\n",
    "from tqdm import tqdm\n",
    "\n",
    "model = Embedding(model_name=\"BAAI/bge-base-en-v1.5\", max_length=512)\n"
   ]
  },
  {
   "cell_type": "code",
   "execution_count": 9,
   "metadata": {},
   "outputs": [],
   "source": [
    "\n",
    "# embed passages\n",
    "\n",
    "embeddings = list(model.passage_embed([passage[\"passage\"] for passage in passages]))\n",
    "\n",
    "for i, embedding in enumerate(embeddings):\n",
    "\n",
    "    passages[i][\"embedding\"] = embedding\n"
   ]
  },
  {
   "cell_type": "code",
   "execution_count": 10,
   "metadata": {},
   "outputs": [],
   "source": [
    "# save embeddings\n",
    "\n",
    "with open(\"passages.jsonl\", \"w\") as f:\n",
    "    for passage in passages:\n",
    "        passage[\"embedding\"] = passage[\"embedding\"].tolist()\n",
    "        f.write(json.dumps(passage))\n",
    "        f.write(\"\\n\")"
   ]
  },
  {
   "cell_type": "markdown",
   "metadata": {},
   "source": [
    "# What to do if we can't extract text?"
   ]
  },
  {
   "cell_type": "markdown",
   "metadata": {},
   "source": [
    "## TesseractOCR"
   ]
  },
  {
   "cell_type": "code",
   "execution_count": 1,
   "metadata": {},
   "outputs": [
    {
     "name": "stdout",
     "output_type": "stream",
     "text": [
      "Note: you may need to restart the kernel to use updated packages.\n"
     ]
    },
    {
     "name": "stderr",
     "output_type": "stream",
     "text": [
      "WARNING: Ignoring invalid distribution ~pencv-python (c:\\Users\\kryst\\AppData\\Local\\Programs\\Python\\Python311\\Lib\\site-packages)\n",
      "DEPRECATION: Loading egg at c:\\users\\kryst\\appdata\\local\\programs\\python\\python311\\lib\\site-packages\\wordcloud-1.8.2.post4+g5dd8d3e-py3.11-win-amd64.egg is deprecated. pip 24.3 will enforce this behaviour change. A possible replacement is to use pip for package installation.. Discussion can be found at https://github.com/pypa/pip/issues/12330\n",
      "WARNING: Ignoring invalid distribution ~pencv-python (c:\\Users\\kryst\\AppData\\Local\\Programs\\Python\\Python311\\Lib\\site-packages)\n"
     ]
    }
   ],
   "source": [
    "%pip install pytesseract --quiet"
   ]
  },
  {
   "cell_type": "markdown",
   "metadata": {},
   "source": [
    "Install tesseract executable - https://tesseract-ocr.github.io/tessdoc/Installation.html"
   ]
  },
  {
   "cell_type": "code",
   "execution_count": 3,
   "metadata": {},
   "outputs": [],
   "source": [
    "from PIL import Image\n",
    "\n",
    "import pytesseract\n",
    "\n",
    "\n",
    "pytesseract.pytesseract.tesseract_cmd = r\"C:\\Program Files\\Tesseract-OCR\\tesseract.exe\"\n"
   ]
  },
  {
   "cell_type": "code",
   "execution_count": 13,
   "metadata": {},
   "outputs": [
    {
     "data": {
      "text/plain": [
       "511142"
      ]
     },
     "execution_count": 13,
     "metadata": {},
     "output_type": "execute_result"
    }
   ],
   "source": [
    "# download jpg\n",
    "\n",
    "import requests\n",
    "\n",
    "url = \"https://pomoc.ifirma.pl/wp-content/uploads/2022/11/paragon2-1.jpg\"\n",
    "\n",
    "r = requests.get(url, allow_redirects=True)\n",
    "\n",
    "open('paragon.jpg', 'wb').write(r.content)\n"
   ]
  },
  {
   "cell_type": "code",
   "execution_count": 14,
   "metadata": {},
   "outputs": [
    {
     "name": "stdout",
     "output_type": "stream",
     "text": [
      "LEROY-NERLIN POLSKA SP. 2 0.0.\n",
      "Ul. Burakowska 14, 01-066 Warszaua\n",
      "SKLEP LEROY MERLIN WROCtAU)\n",
      "53-015 WROCKAY, Al, Karkonoska 85\n",
      "53-015 Wroctay\n",
      "Karkonoska 865\n",
      "NIP 113-00-89-950\n",
      "\n",
      "n\n",
      "PARAGON FISKALNY\n",
      "82680523 BAT ZLEW ELASTIC CZARNY ELAST\n",
      "\n",
      "1\n",
      "43471624 ELEKTR OGRZEWACZ DAFI 4,5KW +P\n",
      "1 x\n",
      "\n",
      "r wydr. 176667/0622\n",
      "\n",
      "129,00 129,00 A\n",
      "199,00 199,00 8\n",
      "\n",
      "Sprzed.’aped. PiU fh ts aaa ae 328,00\n",
      "Kwota PTU A 23,003 |\n",
      "SUMA PTU D\n",
      "\n",
      "SUNA PLS ee 328,00\n",
      "\n",
      "ROZLICZENTE PLATNOSCI\n",
      "\n",
      "Gotéuka 328,00\n",
      "Wptacono razen 328,00\n",
      "000255/0622 #450 2U\n",
      "\n",
      "Nir Nabyy -\n",
      "2022-07-28 | 3 21:02\n",
      "A5B67ABE976FAB57435C4383BEF5145306370\n",
      "\n",
      "Mn\n",
      "\n",
      "Nr transakesi 013-001-000054 9420\n",
      "\n",
      "DZTEKUJEMY 2A ZAKUPY\n",
      "ZAPRASZANY PONOWNTE\n",
      "\n",
      "www. Jeroymerlin.Ppl\n",
      "\n"
     ]
    }
   ],
   "source": [
    "import cv2\n",
    "\n",
    "img_cv = cv2.imread(r'paragon.jpg')\n",
    "\n",
    "# By default OpenCV stores images in BGR format and since pytesseract assumes RGB format,\n",
    "# we need to convert from BGR to RGB format/mode:\n",
    "img_rgb = cv2.cvtColor(img_cv, cv2.COLOR_BGR2RGB)\n",
    "print(pytesseract.image_to_string(img_rgb))"
   ]
  },
  {
   "attachments": {
    "image.png": {
     "image/png": "[encoded data removed]"
    }
   },
   "cell_type": "markdown",
   "metadata": {},
   "source": [
    "## Nougat /donut\n",
    "\n",
    "If you don't have a gpu better not use it :)\n",
    "\n",
    "![image.png](attachment:image.png)\n",
    "\n",
    "OCR model that parses straight into markdown format\n",
    "\n",
    "https://github.com/facebookresearch/nougat\n",
    "\n",
    "However it can hallucinate things"
   ]
  },
  {
   "cell_type": "markdown",
   "metadata": {},
   "source": [
    "The following code is taken from https://huggingface.co/spaces/hf-vision/nougat-transformers"
   ]
  },
  {
   "cell_type": "code",
   "execution_count": 16,
   "metadata": {},
   "outputs": [],
   "source": [
    "from PIL import Image\n",
    "from nougat.dataset.rasterize import rasterize_paper\n",
    "from transformers import NougatProcessor, VisionEncoderDecoderModel\n",
    "import torch\n",
    "import os\n",
    "\n",
    "processor = NougatProcessor.from_pretrained(\"facebook/nougat-small\")\n",
    "model = VisionEncoderDecoderModel.from_pretrained(\"facebook/nougat-small\")"
   ]
  },
  {
   "cell_type": "code",
   "execution_count": 18,
   "metadata": {},
   "outputs": [
    {
     "data": {
      "text/plain": [
       "'cpu'"
      ]
     },
     "execution_count": 18,
     "metadata": {},
     "output_type": "execute_result"
    }
   ],
   "source": [
    "\n",
    "device = \"cuda\" if torch.cuda.is_available() else \"cpu\"\n",
    "model.to(device) \n",
    "device"
   ]
  },
  {
   "cell_type": "code",
   "execution_count": 22,
   "metadata": {},
   "outputs": [
    {
     "data": {
      "text/plain": [
       "3028"
      ]
     },
     "execution_count": 22,
     "metadata": {},
     "output_type": "execute_result"
    }
   ],
   "source": [
    "url = \"https://www.africau.edu/images/default/sample.pdf\"\n",
    "\n",
    "r = requests.get(url, allow_redirects=True)\n",
    "\n",
    "open('sample.pdf', 'wb').write(r.content)"
   ]
  },
  {
   "cell_type": "code",
   "execution_count": 23,
   "metadata": {},
   "outputs": [
    {
     "data": {
      "text/plain": [
       "('\\n\\n## Appendix A Simple PDF File\\n\\nThis is a small demonstration .pdf file -\\n\\njust for use in the Virtual Mechanics tutorials. More text. And more text. And more text. And more text. And more text.\\n\\nAnd more text. And more text.\\n\\n\\n\\n## 6 Conclusion\\n\\nIn this thesis, we have presented a new method for computing the performance of the proposed method. We have presented a new method for computing the performance of the proposed method.\\n\\n',\n",
       " 'c:\\\\Users\\\\kryst\\\\Documents\\\\PIMPS\\\\tutorials/output.md')"
      ]
     },
     "execution_count": 23,
     "metadata": {},
     "output_type": "execute_result"
    }
   ],
   "source": [
    "from pathlib import Path\n",
    "\n",
    "def predict(image):\n",
    "  # prepare PDF image for the model\n",
    "  image = Image.open(image)\n",
    "  pixel_values = processor(image, return_tensors=\"pt\").pixel_values\n",
    "\n",
    "  outputs = model.generate(\n",
    "      pixel_values.to(device),\n",
    "      min_length=1,\n",
    "      max_new_tokens=1500,\n",
    "      bad_words_ids=[[processor.tokenizer.unk_token_id]],\n",
    "  )\n",
    "\n",
    "  page_sequence = processor.batch_decode(outputs, skip_special_tokens=True)[0]\n",
    "  page_sequence = processor.post_process_generation(page_sequence, fix_markdown=False)\n",
    "  return page_sequence\n",
    "\n",
    "\n",
    "def inference(pdf_file):\n",
    "  file_name = pdf_file.name\n",
    "\n",
    "  images = rasterize_paper(file_name, return_pil=True)\n",
    "  sequence = \"\"\n",
    "  # infer for every page and concat\n",
    "  for image in images:\n",
    "    sequence += predict(image)\n",
    "\n",
    "\n",
    "  content = sequence.replace(r'\\(', '$').replace(r'\\)', '$').replace(r'\\[', '$$').replace(r'\\]', '$$')\n",
    "  with open(f\"{os.getcwd()}/output.md\",\"w+\") as f:\n",
    "      f.write(content)\n",
    "      f.close()\n",
    "\n",
    "      \n",
    "  return content, f\"{os.getcwd()}/output.md\"\n",
    "\n",
    "\n",
    "inference(Path(\"sample.pdf\"))\n",
    "\n"
   ]
  },
  {
   "cell_type": "markdown",
   "metadata": {},
   "source": [
    "## Visual Question Answering / Document Question Answering\n",
    "\n",
    "https://huggingface.co/impira/layoutlm-document-qa\n",
    "\n",
    "These models are trained to retrieve information with understanding image layout\n",
    "\n",
    "However, first we need to know which document to pick."
   ]
  },
  {
   "cell_type": "markdown",
   "metadata": {},
   "source": [
    "## Clip / Blip models\n",
    "\n",
    "If we want to use natural language to search for images we can create captions for images\n",
    "\n",
    "https://huggingface.co/Salesforce/blip-image-captioning-large\n",
    "\n",
    "https://huggingface.co/spaces/pharmapsychotic/CLIP-Interrogator\n",
    "\n"
   ]
  },
  {
   "cell_type": "markdown",
   "metadata": {},
   "source": []
  }
 ],
 "metadata": {
  "kernelspec": {
   "display_name": "Python 3",
   "language": "python",
   "name": "python3"
  },
  "language_info": {
   "codemirror_mode": {
    "name": "ipython",
    "version": 3
   },
   "file_extension": ".py",
   "mimetype": "text/x-python",
   "name": "python",
   "nbconvert_exporter": "python",
   "pygments_lexer": "ipython3",
   "version": "3.11.3"
  }
 },
 "nbformat": 4,
 "nbformat_minor": 2
}
